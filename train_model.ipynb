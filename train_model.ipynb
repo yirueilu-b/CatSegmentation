{
 "cells": [
  {
   "cell_type": "code",
   "execution_count": 1,
   "metadata": {},
   "outputs": [
    {
     "name": "stderr",
     "output_type": "stream",
     "text": [
      "/usr/local/lib/python3.6/dist-packages/tensorflow/python/framework/dtypes.py:516: FutureWarning: Passing (type, 1) or '1type' as a synonym of type is deprecated; in a future version of numpy, it will be understood as (type, (1,)) / '(1,)type'.\n",
      "  _np_qint8 = np.dtype([(\"qint8\", np.int8, 1)])\n",
      "/usr/local/lib/python3.6/dist-packages/tensorflow/python/framework/dtypes.py:517: FutureWarning: Passing (type, 1) or '1type' as a synonym of type is deprecated; in a future version of numpy, it will be understood as (type, (1,)) / '(1,)type'.\n",
      "  _np_quint8 = np.dtype([(\"quint8\", np.uint8, 1)])\n",
      "/usr/local/lib/python3.6/dist-packages/tensorflow/python/framework/dtypes.py:518: FutureWarning: Passing (type, 1) or '1type' as a synonym of type is deprecated; in a future version of numpy, it will be understood as (type, (1,)) / '(1,)type'.\n",
      "  _np_qint16 = np.dtype([(\"qint16\", np.int16, 1)])\n",
      "/usr/local/lib/python3.6/dist-packages/tensorflow/python/framework/dtypes.py:519: FutureWarning: Passing (type, 1) or '1type' as a synonym of type is deprecated; in a future version of numpy, it will be understood as (type, (1,)) / '(1,)type'.\n",
      "  _np_quint16 = np.dtype([(\"quint16\", np.uint16, 1)])\n",
      "/usr/local/lib/python3.6/dist-packages/tensorflow/python/framework/dtypes.py:520: FutureWarning: Passing (type, 1) or '1type' as a synonym of type is deprecated; in a future version of numpy, it will be understood as (type, (1,)) / '(1,)type'.\n",
      "  _np_qint32 = np.dtype([(\"qint32\", np.int32, 1)])\n",
      "/usr/local/lib/python3.6/dist-packages/tensorflow/python/framework/dtypes.py:525: FutureWarning: Passing (type, 1) or '1type' as a synonym of type is deprecated; in a future version of numpy, it will be understood as (type, (1,)) / '(1,)type'.\n",
      "  np_resource = np.dtype([(\"resource\", np.ubyte, 1)])\n",
      "/usr/local/lib/python3.6/dist-packages/tensorboard/compat/tensorflow_stub/dtypes.py:541: FutureWarning: Passing (type, 1) or '1type' as a synonym of type is deprecated; in a future version of numpy, it will be understood as (type, (1,)) / '(1,)type'.\n",
      "  _np_qint8 = np.dtype([(\"qint8\", np.int8, 1)])\n",
      "/usr/local/lib/python3.6/dist-packages/tensorboard/compat/tensorflow_stub/dtypes.py:542: FutureWarning: Passing (type, 1) or '1type' as a synonym of type is deprecated; in a future version of numpy, it will be understood as (type, (1,)) / '(1,)type'.\n",
      "  _np_quint8 = np.dtype([(\"quint8\", np.uint8, 1)])\n",
      "/usr/local/lib/python3.6/dist-packages/tensorboard/compat/tensorflow_stub/dtypes.py:543: FutureWarning: Passing (type, 1) or '1type' as a synonym of type is deprecated; in a future version of numpy, it will be understood as (type, (1,)) / '(1,)type'.\n",
      "  _np_qint16 = np.dtype([(\"qint16\", np.int16, 1)])\n",
      "/usr/local/lib/python3.6/dist-packages/tensorboard/compat/tensorflow_stub/dtypes.py:544: FutureWarning: Passing (type, 1) or '1type' as a synonym of type is deprecated; in a future version of numpy, it will be understood as (type, (1,)) / '(1,)type'.\n",
      "  _np_quint16 = np.dtype([(\"quint16\", np.uint16, 1)])\n",
      "/usr/local/lib/python3.6/dist-packages/tensorboard/compat/tensorflow_stub/dtypes.py:545: FutureWarning: Passing (type, 1) or '1type' as a synonym of type is deprecated; in a future version of numpy, it will be understood as (type, (1,)) / '(1,)type'.\n",
      "  _np_qint32 = np.dtype([(\"qint32\", np.int32, 1)])\n",
      "/usr/local/lib/python3.6/dist-packages/tensorboard/compat/tensorflow_stub/dtypes.py:550: FutureWarning: Passing (type, 1) or '1type' as a synonym of type is deprecated; in a future version of numpy, it will be understood as (type, (1,)) / '(1,)type'.\n",
      "  np_resource = np.dtype([(\"resource\", np.ubyte, 1)])\n"
     ]
    }
   ],
   "source": [
    "import os\n",
    "\n",
    "import matplotlib.pyplot as plt\n",
    "%matplotlib inline\n",
    "\n",
    "import numpy as np\n",
    "import uuid\n",
    "import glob\n",
    "\n",
    "import tensorflow as tf\n",
    "from tensorflow.keras.models import Model, load_model\n",
    "from tensorflow.keras.layers import Input\n",
    "from tensorflow.keras.layers import Dropout, Lambda\n",
    "from tensorflow.keras.layers import Conv2D, Conv2DTranspose\n",
    "from tensorflow.keras.layers import MaxPooling2D\n",
    "from tensorflow.keras.layers import concatenate\n",
    "from tensorflow.keras.callbacks import EarlyStopping, ModelCheckpoint\n",
    "from tensorflow.keras.preprocessing.image import ImageDataGenerator"
   ]
  },
  {
   "cell_type": "code",
   "execution_count": 2,
   "metadata": {},
   "outputs": [],
   "source": [
    "os.environ[\"CUDA_VISIBLE_DEVICES\"]=\"0\""
   ]
  },
  {
   "cell_type": "code",
   "execution_count": 3,
   "metadata": {},
   "outputs": [],
   "source": [
    "IMG_WIDTH = 128\n",
    "IMG_HEIGHT = 128\n",
    "IMG_CHANNELS = 3\n",
    "TRAIN_PATH = \"data/train_image\"\n",
    "TRAIN_MASK_PATH = \"data/train_mask\"\n",
    "VAL_PATH = \"data/val_image\"\n",
    "VAL_MASK_PATH = \"data/val_mask\""
   ]
  },
  {
   "cell_type": "code",
   "execution_count": 4,
   "metadata": {},
   "outputs": [],
   "source": [
    "for image_name in glob.glob(os.path.join(TRAIN_PATH, \"class_0\", \"*\")):\n",
    "    old_name = image_name.split(\"/\")[-1].replace(\".jpg\", \"\")\n",
    "    new_name = uuid.uuid4().hex\n",
    "#     print(image_name, image_name.replace(old_name, new_name))\n",
    "#     print(image_name.replace(\"train_image\", \"train_mask\"), image_name.replace(old_name, new_name).replace(\"train_image\", \"train_mask\"))\n",
    "    os.rename(image_name, image_name.replace(old_name, new_name))\n",
    "    os.rename(image_name.replace(\"train_image\", \"train_mask\").replace(\"jpg\", \"png\"), \n",
    "              image_name.replace(old_name, new_name).replace(\"train_image\", \"train_mask\").replace(\"jpg\", \"png\"))"
   ]
  },
  {
   "cell_type": "code",
   "execution_count": 5,
   "metadata": {},
   "outputs": [],
   "source": [
    "for image_name in glob.glob(os.path.join(VAL_PATH, \"class_0\", \"*\")):\n",
    "    old_name = image_name.split(\"/\")[-1].replace(\".jpg\", \"\")\n",
    "    new_name = uuid.uuid4().hex\n",
    "#     print(image_name, image_name.replace(old_name, new_name))\n",
    "#     print(image_name.replace(\"train_image\", \"train_mask\"), image_name.replace(old_name, new_name).replace(\"train_image\", \"train_mask\"))\n",
    "    os.rename(image_name, image_name.replace(old_name, new_name))\n",
    "    os.rename(image_name.replace(\"val_image\", \"val_mask\").replace(\"jpg\", \"png\"), \n",
    "              image_name.replace(old_name, new_name).replace(\"val_image\", \"val_mask\").replace(\"jpg\", \"png\"))"
   ]
  },
  {
   "cell_type": "markdown",
   "metadata": {},
   "source": [
    "## Data Generator"
   ]
  },
  {
   "cell_type": "code",
   "execution_count": 6,
   "metadata": {},
   "outputs": [],
   "source": [
    "BATCH_SIZE = 64"
   ]
  },
  {
   "cell_type": "code",
   "execution_count": 7,
   "metadata": {},
   "outputs": [
    {
     "name": "stdout",
     "output_type": "stream",
     "text": [
      "Found 1896 images belonging to 1 classes.\n",
      "Found 1896 images belonging to 1 classes.\n"
     ]
    },
    {
     "data": {
      "text/plain": [
       "29"
      ]
     },
     "execution_count": 7,
     "metadata": {},
     "output_type": "execute_result"
    }
   ],
   "source": [
    "data_gen_args = dict(\n",
    "#     rotation_range=40,\n",
    "#     width_shift_range=0.2,\n",
    "#     height_shift_range=0.2,\n",
    "#     zoom_range=0.3,\n",
    "#     horizontal_flip =1, \n",
    "#     vertical_flip =1,\n",
    "#     validation_split=VAL_SPLIT,\n",
    "    rescale =1./255\n",
    ")\n",
    "\n",
    "mask_gen_args = dict(\n",
    "#     rotation_range=40,\n",
    "#     width_shift_range=0.2,\n",
    "#     height_shift_range=0.2,\n",
    "#     zoom_range=0.3,\n",
    "#     horizontal_flip =1,\n",
    "#     vertical_flip =1,\n",
    "#     validation_split=0.1,\n",
    "#     rescale =1./255\n",
    ")\n",
    "\n",
    "image_datagen = ImageDataGenerator(**data_gen_args)\n",
    "mask_datagen = ImageDataGenerator(**mask_gen_args)\n",
    "\n",
    "seed = 1\n",
    "\n",
    "image_generator = image_datagen.flow_from_directory(\n",
    "    TRAIN_PATH,\n",
    "    class_mode=None,\n",
    "    seed=seed,\n",
    "    target_size=(IMG_HEIGHT, IMG_WIDTH),\n",
    "    batch_size=BATCH_SIZE\n",
    ")\n",
    "\n",
    "mask_generator = mask_datagen.flow_from_directory(\n",
    "    TRAIN_MASK_PATH,\n",
    "    class_mode=None,\n",
    "    seed=seed,\n",
    "    target_size=(IMG_HEIGHT, IMG_WIDTH),\n",
    "    batch_size=BATCH_SIZE,\n",
    "    color_mode='grayscale'\n",
    ")\n",
    "\n",
    "train_generator = (pair for pair in zip(image_generator, mask_generator))\n",
    "TRAIN_STEP = image_generator.n // BATCH_SIZE\n",
    "TRAIN_STEP"
   ]
  },
  {
   "cell_type": "code",
   "execution_count": 8,
   "metadata": {},
   "outputs": [
    {
     "name": "stdout",
     "output_type": "stream",
     "text": [
      "Found 475 images belonging to 1 classes.\n",
      "Found 475 images belonging to 1 classes.\n"
     ]
    },
    {
     "data": {
      "text/plain": [
       "7"
      ]
     },
     "execution_count": 8,
     "metadata": {},
     "output_type": "execute_result"
    }
   ],
   "source": [
    "image_generator = image_datagen.flow_from_directory(\n",
    "    VAL_PATH,\n",
    "    class_mode=None,\n",
    "    seed=seed,\n",
    "    target_size=(IMG_HEIGHT, IMG_WIDTH),\n",
    "    batch_size=BATCH_SIZE,\n",
    ")\n",
    "\n",
    "mask_generator = mask_datagen.flow_from_directory(\n",
    "    VAL_MASK_PATH,\n",
    "    class_mode=None,\n",
    "    seed=seed,\n",
    "    target_size=(IMG_HEIGHT, IMG_WIDTH),\n",
    "    batch_size=BATCH_SIZE,\n",
    "    color_mode='grayscale'\n",
    ")\n",
    "\n",
    "valid_generator = (pair for pair in zip(image_generator, mask_generator))\n",
    "VAL_STEP = image_generator.n // BATCH_SIZE\n",
    "VAL_STEP"
   ]
  },
  {
   "cell_type": "markdown",
   "metadata": {},
   "source": [
    "## U-net"
   ]
  },
  {
   "cell_type": "code",
   "execution_count": 9,
   "metadata": {},
   "outputs": [
    {
     "name": "stdout",
     "output_type": "stream",
     "text": [
      "WARNING:tensorflow:From /usr/local/lib/python3.6/dist-packages/tensorflow/python/ops/init_ops.py:1251: calling VarianceScaling.__init__ (from tensorflow.python.ops.init_ops) with dtype is deprecated and will be removed in a future version.\n",
      "Instructions for updating:\n",
      "Call initializer instance with the dtype argument instead of passing it to the constructor\n"
     ]
    }
   ],
   "source": [
    "base_model = tf.keras.applications.MobileNetV2(input_shape=[128, 128, 3], include_top=False)\n",
    "\n",
    "# Use the activations of these layers\n",
    "layer_names = [\n",
    "    'block_1_expand_relu',   # 64x64\n",
    "    'block_3_expand_relu',   # 32x32\n",
    "    'block_6_expand_relu',   # 16x16\n",
    "    'block_13_expand_relu',  # 8x8\n",
    "    'block_16_project',      # 4x4\n",
    "]\n",
    "layers = [base_model.get_layer(name).output for name in layer_names]\n",
    "\n",
    "# Create the feature extraction model\n",
    "down_stack = tf.keras.Model(inputs=base_model.input, outputs=layers)\n",
    "\n",
    "down_stack.trainable = False"
   ]
  },
  {
   "cell_type": "code",
   "execution_count": 14,
   "metadata": {},
   "outputs": [
    {
     "name": "stdout",
     "output_type": "stream",
     "text": [
      "WARNING:tensorflow:From /usr/local/lib/python3.6/dist-packages/tensorflow/python/ops/init_ops.py:1251: calling VarianceScaling.__init__ (from tensorflow.python.ops.init_ops) with dtype is deprecated and will be removed in a future version.\n",
      "Instructions for updating:\n",
      "Call initializer instance with the dtype argument instead of passing it to the constructor\n"
     ]
    }
   ],
   "source": [
    "base_model = tf.keras.applications.DenseNet121(input_shape=[IMG_HEIGHT, IMG_WIDTH, 3], include_top=False)\n",
    "\n",
    "# Use the activations of these layers\n",
    "layer_names = [\n",
    "    'conv1/relu',   # 128x128\n",
    "    'conv2_block6_1_relu',   # 64x64\n",
    "    'conv3_block12_1_relu',   # 32x32\n",
    "    'conv4_block24_1_relu',  # 16x16\n",
    "    'conv5_block16_2_conv',      # 8x8\n",
    "]\n",
    "layers = [base_model.get_layer(name).output for name in layer_names]\n",
    "\n",
    "# Create the feature extraction model\n",
    "down_stack = tf.keras.Model(inputs=base_model.input, outputs=layers)\n",
    "down_stack.trainable = False"
   ]
  },
  {
   "cell_type": "code",
   "execution_count": 10,
   "metadata": {},
   "outputs": [],
   "source": [
    "def upsample(filters, size, apply_dropout=False):\n",
    "    initializer = tf.random_normal_initializer(0., 0.02)\n",
    "\n",
    "    result = tf.keras.Sequential()\n",
    "    \n",
    "    result.add(\n",
    "        tf.keras.layers.Conv2DTranspose(\n",
    "            filters, \n",
    "            size,\n",
    "            strides=2,\n",
    "            padding='same',\n",
    "            kernel_initializer=initializer,\n",
    "            use_bias=False\n",
    "        )\n",
    "    )\n",
    "\n",
    "    result.add(tf.keras.layers.BatchNormalization())\n",
    "\n",
    "    if apply_dropout:\n",
    "        result.add(tf.keras.layers.Dropout(0.5))\n",
    "\n",
    "    result.add(tf.keras.layers.ReLU())\n",
    "\n",
    "    return result"
   ]
  },
  {
   "cell_type": "code",
   "execution_count": 11,
   "metadata": {},
   "outputs": [],
   "source": [
    "up_stack = [\n",
    "    upsample(512, 3),  # 8x8 -> 16x16\n",
    "    upsample(256, 3),  # 16x16 -> 32x32\n",
    "    upsample(128, 3),  # 32x32 -> 64x64\n",
    "    upsample(64, 3),   # 64x64 -> 128x128\n",
    "]"
   ]
  },
  {
   "cell_type": "code",
   "execution_count": 12,
   "metadata": {},
   "outputs": [],
   "source": [
    "def unet_model(output_channels):\n",
    "    inputs = tf.keras.layers.Input(shape=[IMG_HEIGHT, IMG_WIDTH, 3])\n",
    "    x = inputs\n",
    "\n",
    "    # Downsampling through the model\n",
    "    skips = down_stack(x)\n",
    "    x = skips[-1]\n",
    "    skips = reversed(skips[:-1])\n",
    "\n",
    "    # Upsampling and establishing the skip connections\n",
    "    for up, skip in zip(up_stack, skips):\n",
    "        x = up(x)\n",
    "        concat = tf.keras.layers.Concatenate()\n",
    "        x = concat([x, skip])\n",
    "\n",
    "    # This is the last layer of the model\n",
    "    last = tf.keras.layers.Conv2DTranspose(\n",
    "        output_channels, 3, strides=2,\n",
    "        padding='same'\n",
    "    )\n",
    "    \n",
    "    x = last(x)\n",
    "    return tf.keras.Model(inputs=inputs, outputs=x)"
   ]
  },
  {
   "cell_type": "code",
   "execution_count": 13,
   "metadata": {},
   "outputs": [],
   "source": [
    "model = unet_model(3)\n",
    "model.compile(\n",
    "    optimizer='adam',\n",
    "    loss=tf.keras.losses.SparseCategoricalCrossentropy(from_logits=True),\n",
    "    metrics=['accuracy']\n",
    ")"
   ]
  },
  {
   "cell_type": "code",
   "execution_count": 14,
   "metadata": {
    "scrolled": true
   },
   "outputs": [
    {
     "name": "stdout",
     "output_type": "stream",
     "text": [
      "Model: \"model_1\"\n",
      "__________________________________________________________________________________________________\n",
      "Layer (type)                    Output Shape         Param #     Connected to                     \n",
      "==================================================================================================\n",
      "input_2 (InputLayer)            [(None, 128, 128, 3) 0                                            \n",
      "__________________________________________________________________________________________________\n",
      "model (Model)                   [(None, 64, 64, 96), 1841984     input_2[0][0]                    \n",
      "__________________________________________________________________________________________________\n",
      "sequential (Sequential)         (None, 8, 8, 512)    1476608     model[1][4]                      \n",
      "__________________________________________________________________________________________________\n",
      "concatenate (Concatenate)       (None, 8, 8, 1088)   0           sequential[0][0]                 \n",
      "                                                                 model[1][3]                      \n",
      "__________________________________________________________________________________________________\n",
      "sequential_1 (Sequential)       (None, 16, 16, 256)  2507776     concatenate[0][0]                \n",
      "__________________________________________________________________________________________________\n",
      "concatenate_1 (Concatenate)     (None, 16, 16, 448)  0           sequential_1[0][0]               \n",
      "                                                                 model[1][2]                      \n",
      "__________________________________________________________________________________________________\n",
      "sequential_2 (Sequential)       (None, 32, 32, 128)  516608      concatenate_1[0][0]              \n",
      "__________________________________________________________________________________________________\n",
      "concatenate_2 (Concatenate)     (None, 32, 32, 272)  0           sequential_2[0][0]               \n",
      "                                                                 model[1][1]                      \n",
      "__________________________________________________________________________________________________\n",
      "sequential_3 (Sequential)       (None, 64, 64, 64)   156928      concatenate_2[0][0]              \n",
      "__________________________________________________________________________________________________\n",
      "concatenate_3 (Concatenate)     (None, 64, 64, 160)  0           sequential_3[0][0]               \n",
      "                                                                 model[1][0]                      \n",
      "__________________________________________________________________________________________________\n",
      "conv2d_transpose_4 (Conv2DTrans (None, 128, 128, 3)  4323        concatenate_3[0][0]              \n",
      "==================================================================================================\n",
      "Total params: 6,504,227\n",
      "Trainable params: 4,660,323\n",
      "Non-trainable params: 1,843,904\n",
      "__________________________________________________________________________________________________\n"
     ]
    }
   ],
   "source": [
    "# tf.keras.utils.plot_model(model, show_shapes=True)\n",
    "model.summary()"
   ]
  },
  {
   "cell_type": "markdown",
   "metadata": {},
   "source": [
    "## Train"
   ]
  },
  {
   "cell_type": "code",
   "execution_count": 15,
   "metadata": {},
   "outputs": [],
   "source": [
    "EPOCH = 20"
   ]
  },
  {
   "cell_type": "code",
   "execution_count": 16,
   "metadata": {},
   "outputs": [],
   "source": [
    "RES_DIR = \"result\"\n",
    "MODEL_NAME = \"unet_mobilenet_128\"\n",
    "if not os.path.exists(os.path.join(RES_DIR, MODEL_NAME)):\n",
    "    os.makedirs(os.path.join(RES_DIR, MODEL_NAME))"
   ]
  },
  {
   "cell_type": "code",
   "execution_count": 46,
   "metadata": {},
   "outputs": [],
   "source": [
    "# earlystopper = EarlyStopping(patience=5, verbose=1)\n",
    "# checkpointer = ModelCheckpoint(os.path.join(RES_DIR, MODEL_NAME, \"model.h5\"), verbose=1, save_best_only=True)"
   ]
  },
  {
   "cell_type": "code",
   "execution_count": null,
   "metadata": {},
   "outputs": [
    {
     "name": "stdout",
     "output_type": "stream",
     "text": [
      "Epoch 1/20\n",
      "29/29 [==============================] - 12s 420ms/step - loss: 0.7261 - acc: 0.7027 - val_loss: 0.8501 - val_acc: 0.7596\n",
      "Epoch 2/20\n",
      "29/29 [==============================] - 10s 336ms/step - loss: 0.3739 - acc: 0.8656 - val_loss: 0.5158 - val_acc: 0.8188\n",
      "Epoch 3/20\n",
      "29/29 [==============================] - 10s 341ms/step - loss: 0.3183 - acc: 0.8823 - val_loss: 0.4524 - val_acc: 0.8310\n",
      "Epoch 4/20\n",
      "29/29 [==============================] - 10s 343ms/step - loss: 0.2972 - acc: 0.8880 - val_loss: 0.3833 - val_acc: 0.8513\n",
      "Epoch 5/20\n",
      "29/29 [==============================] - 10s 343ms/step - loss: 0.2778 - acc: 0.8948 - val_loss: 0.4059 - val_acc: 0.8429\n",
      "Epoch 6/20\n",
      "29/29 [==============================] - 10s 342ms/step - loss: 0.2632 - acc: 0.8996 - val_loss: 0.3429 - val_acc: 0.8675\n",
      "Epoch 7/20\n",
      "29/29 [==============================] - 10s 341ms/step - loss: 0.2514 - acc: 0.9041 - val_loss: 0.3195 - val_acc: 0.8765\n",
      "Epoch 8/20\n",
      "29/29 [==============================] - 10s 338ms/step - loss: 0.2332 - acc: 0.9104 - val_loss: 0.3247 - val_acc: 0.8744\n",
      "Epoch 9/20\n",
      "29/29 [==============================] - 10s 346ms/step - loss: 0.2268 - acc: 0.9119 - val_loss: 0.3240 - val_acc: 0.8752\n",
      "Epoch 10/20\n",
      "29/29 [==============================] - 10s 330ms/step - loss: 0.2163 - acc: 0.9162 - val_loss: 0.3172 - val_acc: 0.8775\n",
      "Epoch 11/20\n",
      "29/29 [==============================] - 10s 348ms/step - loss: 0.2147 - acc: 0.9158 - val_loss: 0.3153 - val_acc: 0.8786\n",
      "Epoch 12/20\n",
      "29/29 [==============================] - 10s 341ms/step - loss: 0.1940 - acc: 0.9241 - val_loss: 0.3661 - val_acc: 0.8633\n",
      "Epoch 13/20\n",
      "29/29 [==============================] - 10s 341ms/step - loss: 0.1926 - acc: 0.9246 - val_loss: 0.3879 - val_acc: 0.8592\n",
      "Epoch 14/20\n",
      "29/29 [==============================] - 10s 345ms/step - loss: 0.1755 - acc: 0.9305 - val_loss: 0.3544 - val_acc: 0.8726\n",
      "Epoch 15/20\n",
      "24/29 [=======================>......] - ETA: 1s - loss: 0.1723 - acc: 0.9316"
     ]
    }
   ],
   "source": [
    "history = model.fit_generator(\n",
    "\n",
    "    train_generator,\n",
    "    steps_per_epoch=TRAIN_STEP,\n",
    "    \n",
    "    validation_data=valid_generator,\n",
    "    validation_steps=VAL_STEP,\n",
    "    \n",
    "    epochs=EPOCH,\n",
    "#     callbacks=[earlystopper, checkpointer]\n",
    "\n",
    ")"
   ]
  },
  {
   "cell_type": "code",
   "execution_count": 51,
   "metadata": {},
   "outputs": [],
   "source": [
    "def plot_accuracy_loss(history):\n",
    "    fig = plt.figure(figsize=(20, 12))\n",
    "    # Acc\n",
    "    plt.subplot(221)\n",
    "    plt.plot(history.history['acc'],'o-', label = \"Train Acc\")\n",
    "    plt.plot(history.history['val_acc'], 'o-', label = \"Val Acc\")\n",
    "    plt.title(\"Accuracy\")\n",
    "    plt.ylabel(\"Accuracy\")\n",
    "    plt.xlabel(\"Epoch\")\n",
    "    plt.legend()\n",
    "    # Loss\n",
    "    plt.subplot(222)\n",
    "    plt.plot(history.history['loss'],'o-', label = \"Train Loss\")\n",
    "    plt.plot(history.history['val_loss'], 'o-', label = \"Val Loss\")\n",
    "    plt.title(\"Loss\")\n",
    "    plt.ylabel(\"Loss\")\n",
    "    plt.xlabel(\"Epoch\")\n",
    "    plt.legend()"
   ]
  },
  {
   "cell_type": "code",
   "execution_count": 52,
   "metadata": {},
   "outputs": [
    {
     "data": {
      "image/png": "[encoded data removed]",
      "text/plain": [
       "<Figure size 1440x864 with 2 Axes>"
      ]
     },
     "metadata": {
      "needs_background": "light"
     },
     "output_type": "display_data"
    }
   ],
   "source": [
    "plot_accuracy_loss(history)\n",
    "plt.show()"
   ]
  },
  {
   "cell_type": "code",
   "execution_count": 53,
   "metadata": {},
   "outputs": [],
   "source": [
    "plot_accuracy_loss(history)\n",
    "plt.savefig(os.path.join(RES_DIR, MODEL_NAME, \"acc_loss.png\"))\n",
    "plt.close()"
   ]
  },
  {
   "cell_type": "code",
   "execution_count": null,
   "metadata": {},
   "outputs": [],
   "source": []
  }
 ],
 "metadata": {
  "kernelspec": {
   "display_name": "Python 3",
   "language": "python",
   "name": "python3"
  },
  "language_info": {
   "codemirror_mode": {
    "name": "ipython",
    "version": 3
   },
   "file_extension": ".py",
   "mimetype": "text/x-python",
   "name": "python",
   "nbconvert_exporter": "python",
   "pygments_lexer": "ipython3",
   "version": "3.6.8"
  }
 },
 "nbformat": 4,
 "nbformat_minor": 2
}
